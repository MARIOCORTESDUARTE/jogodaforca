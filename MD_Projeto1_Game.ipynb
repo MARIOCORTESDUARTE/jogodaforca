# Mario Duarte
# Projeto Game Forca em Python
# Fev/2025

# Importa bibliotecas
import random
from os import system, name

# Funções

# Função para limpar a tela a cada execução
def limpa_tela():
 
    # Windows
    if name == 'nt':
        _ = system('cls')
 
    # Mac ou Linux
    else:
        _ = system('clear')

# Função que desenha a forca na tela
def desenha_forca(chances):

    # Lista de estágios da forca
    # Cria uma lista com os 6 estagios e o desenho de cada estagio

    stages = [  # estágio 6 (final)
                """
                   --------
                   |      |
                   |      O
                   |     \\|/
                   |      |
                   |     / \\
                   -
                """,
                # estágio 5
                """
                   --------
                   |      |
                   |      O
                   |     \\|/
                   |      |
                   |     / 
                   -
                """,
                # estágio 4
                """
                   --------
                   |      |
                   |      O
                   |     \\|/
                   |      |
                   |      
                   -
                """,
                # estágio 3
                """
                   --------
                   |      |
                   |      O
                   |     \\|
                   |      |
                   |     
                   -
                """,
                # estágio 2
                """
                   --------
                   |      |
                   |      O
                   |      |
                   |      |
                   |     
                   -
                """,
                # estágio 1
                """
                   --------
                   |      |
                   |      O
                   |    
                   |      
                   |     
                   -
                """,
                # estágio 0
                """
                   --------
                   |      |
                   |      
                   |    
                   |      
                   |     
                   -
                """
    ]
    return stages[chances]

# Função do jogo da forca
def game_forca():

    limpa_tela()
    print("\nBem vindo ao jogo da forca!")
    print("Adivinhe a palavra abaixo:\n")
    
    # Lista de palavras para o jogo
    # com frutas, legumes e mamíferos
    palavras = [
        # Frutas
        "ACAI", "CUPUACU", "CAJA", "GRAVIOLA", "JABUTICABA", "PITANGA", "CAJU", "GUARANA",

        # Legumes
        "MANDIOQUINHA-SALSA", "JILO", "CHUCHU", "QUIABO", "MAXIXE",
        "INHAME", "CARA", "ABOBORA", "PEQUI", "TAIOBA",

        # Mamíferos
        "ONCA-PINTADA", "LOBO-GUARA", "TAMANDUA-BANDEIRA", "CAPIVARA",
        "MICO-LEAO-DOURADO", "BOTO-COR-DE-ROSA", "ANTA", "MACACO-PREGO",
        "TATU-BOLA", "ARIRANHA",

        # Aves brasileiras
        "ARARA-AZUL", "TUIUIU", "SABIA-LARANJEIRA", "BEM-TE-VI", "BEIJA-FLOR", "CURIO", "CANARIO-DA-TERRA", "UIRAPURU"
    ]

    
    # Escolhe randomicamente uma palavra
    palavra = random.choice(palavras)
    
    # Lista  de letras  da palavra
    lista_letras_palavras = [letra for letra in palavra]
    
    # Cria o tabuleiro com o caracter "_" multiplicado pelo comprimento da palavra
    tabuleiro = ["_"] * len(palavra)
    
    # Número de chances
    chances = 6
    
    # Lista para as letras digitadas
    letras_tentativas = []
    
    # Loop enquanto número de chances for maior do que zero
    while chances > 0:
        
        print(desenha_forca(chances))
        print("Palavra: ", tabuleiro)
        print("\n")
        
        # Tentativa
        tentativa = input("\nDigite uma letra: ")
        
        # Condicional
        if tentativa in letras_tentativas:
            print("Você já tentou essa letra. Escolha outra!")
            continue
        
        # Lista de tentativas (letras)
        letras_tentativas.append(tentativa)
        
        # Condicional
        if tentativa in lista_letras_palavras:
            
            print("Você acertou a letra!")
            
            # Loop
            for indice in range(len(lista_letras_palavras)):

                # Condicional
                if lista_letras_palavras[indice] == tentativa:
                    tabuleiro[indice] = tentativa
            
            # Se todos os espaços foram preenchidos, o jogo acabou
            if "_" not in tabuleiro:
                print("\nVocê venceu! A palavra era: {}".format(palavra))
                break
        else:
            print("Ops. Essa letra não está na palavra!")
            # Decremento
            chances -= 1
    
    # Condicional
    if "_" in tabuleiro:
        print("\nVocê perdeu! A palavra era: {}.".format(palavra))


# Bloco main
if __name__ == "__main__":
    game_forca()
    print("\nParabéns. Você está aprendendo programação em Python com a DSA. :)\n")

